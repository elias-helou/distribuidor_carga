{
 "cells": [
  {
   "cell_type": "markdown",
   "metadata": {},
   "source": [
    "## Definição Matemática - Deprecated"
   ]
  },
  {
   "cell_type": "markdown",
   "metadata": {},
   "source": [
    "## Definições de Conjuntos, Índices e Parâmetros\n",
    "\n",
    "- $ T $: Conjunto de todas as disciplinas.\n",
    "- $ D $: Conjunto de disciplinas ativas, $ D \\in T $.\n",
    "- $ I $: Conjunto de docentes.\n",
    "- $ H_j $: Conjunto de horários da disciplina $ j $.\n",
    "- $ P_j^i $: Prioridade atribuída pelo docente $ i $ à disciplina $ j $, sendo $ P_j^i \\geq 1 $ (quanto menor o valor, maior a prioridade).\n",
    "- $ \\text{MaiorPrioridade} $: Valor máximo de prioridade atribuído entre todas as disciplinas + 1.\n",
    "- $ d_j $: Dia da semana em que a disciplina $ j $ ocorre.\n",
    "- $ h_{j1}, h_{j2} $: Horários de início e término da disciplina $ j $.\n",
    "<!-- - $ \\text{Travas}(i, j) $: Função indicadora que vale 1 se o docente $ i $ está travado (não pode ser atribuído) à disciplina $ j $, e 0 caso contrário. -->"
   ]
  },
  {
   "cell_type": "markdown",
   "metadata": {},
   "source": [
    "## Variáveis de Decisão\n",
    "\n",
    "- $ x_{ij} $: Variável binária que vale 1 se o docente $ i $ for alocado à disciplina $ j $, e 0 caso contrário."
   ]
  },
  {
   "cell_type": "markdown",
   "metadata": {},
   "source": [
    "## Restrições\n",
    "\n",
    "\n",
    "### Restrição 1: Travas de Alocação\n",
    "\n",
    "$$\n",
    "x_{ij} \\leq 1 - \\text{Travas}(i, j) \\quad \\forall i \\in I, \\forall j \\in D\n",
    "$$\n",
    "\n",
    "_Um docente não pode ser atribuído a uma disciplina se houver uma trava para essa alocação._\n",
    "\n",
    "### Restrição 2: Sobreposição de Horários\n",
    "\n",
    "$$\n",
    " \\delta(d_j, d_k) = \n",
    "\\begin{cases} \n",
    "    1 & \\text{quando $j$  e  $k$  ocorrem no mesmo dia  e }\\\\\n",
    "    0 & \\text{caso contrário}\n",
    "\\end{cases}\n",
    "$$\n",
    "\n",
    "\n",
    "$$\n",
    "\\sum_{j \\in D} \\sum_{k \\in D, k \\neq j} \\sum_{h_j \\in H_j} \\sum_{h_k \\in H_k} \\left( \\delta(d_j, d_k) \\cdot \\left[ (h_{j1} < h_{k2} \\land h_{j2} > h_{k1}) \\lor (h_{j1} = h_{k2}) \\lor (h_{j2} = h_{k1}) \\right] \\cdot x_{ij} \\cdot x_{ik} \\right) = 0\n",
    "$$\n",
    "\n",
    "_Um docente não pode ser alocado a disciplinas cujos horários se sobreponham. Se dois horários se sobrepõem, a restrição é violada._"
   ]
  },
  {
   "cell_type": "markdown",
   "metadata": {},
   "source": [
    "## Mérito\n",
    "\n",
    "### 1. Penalidade para docentes sem prioridade:\n",
    "$$\n",
    "\\text{Penalidade}_{\\text{sem prioridade}} = \\sum_{j \\in D} \\sum_{i \\in I} \\text{maiorPrioridade} \\cdot x_{ij}; \\quad \\forall{i, j} \\notin P^i_j\n",
    "$$\n",
    "\n",
    "_Alocar um docente a uma disciplina para a qual ele não tenha apontado prioridade gerará uma penalização igual à maior prioridade do conjunto._\n",
    "\n",
    "### 2. Penalidade por disciplina sem docente:\n",
    "$$\n",
    "\\text{Penalidade}_{\\text{sem docente}} = \\sum_{j \\in D} \\left( 10 \\cdot (1 - \\sum_{i \\in I} x_{ij}) \\right)\n",
    "$$\n",
    "\n",
    "_Disciplinas sem docentes alocados receberão uma penalidade de 10 pontos._\n",
    "\n",
    "### 3. Penalidade por disciplina com mais de um docente:\n",
    "$$\n",
    "\\text{Penalidade}_{\\text{mais de um docente}} = \\sum_{j \\in D} \\left( 10 + 10 \\cdot \\sum_{i \\in I} x_{ij} \\right) \\quad \\text{se} \\quad \\sum_{i \\in I} x_{ij} > 1\n",
    "$$\n",
    "\n",
    "_Disciplinas com mais de um docente alocado receberão uma penalidade de 10 pontos, mais 10 pontos adicionais por cada docente alocado na mesma disciplina._\n",
    "\n",
    "### 4. \"Crédito\" para docentes alocados com prioridade:\n",
    "\n",
    "$$\n",
    "   \\text{Crédito} =  \\sum_{j \\in D} \\sum_{i \\in I} \\left( \\text{maiorPrioridade} - \\text{prioridade}_{ij} \\right) \\cdot x_{ij}; \\quad \\forall{i, j} \\in P^i_j\n",
    "$$\n",
    "<!-- $$\n",
    "   \\text{Crédito} =  \\sum_{j \\in D} \\sum_{i \\in P_j} \\left( \\text{maiorPrioridade} - \\text{prioridade}_{ij} \\right) \\cdot x_{ij}; \\quad \\forall{i, j} \\in P^i_j\n",
    "$$ -->\n",
    "\n",
    "_Alocar um docente a uma disciplina para a qual ele tenha apontado prioridade gerará uma adição de pontos na função mérito._"
   ]
  },
  {
   "cell_type": "markdown",
   "metadata": {},
   "source": [
    "<!-- ## Função Objetivo\n",
    "\n",
    "$$\n",
    "     \\max{\\sum_{j \\in D} \\sum_{i \\in I} (\\text{Crédito} - (\\text{Penalidade}_{\\text{sem prioridade}} + \\text{Penalidade}_{\\text{sem docente}} + \\text{Penalidade}_{\\text{mais de um docente}}))}\n",
    "$$\n",
    "\n",
    "_Maximizar a qualidade da alocação de docentes às disciplinas, considerando suas prioridades e penalizações por atribuições incorretas ou faltantes._ -->"
   ]
  }
 ],
 "metadata": {
  "kernelspec": {
   "display_name": "Python 3",
   "language": "python",
   "name": "python3"
  },
  "language_info": {
   "codemirror_mode": "typescript",
   "file_extension": ".ts",
   "mimetype": "text/x.typescript",
   "name": "python",
   "nbconvert_exporter": "script",
   "pygments_lexer": "typescript",
   "version": "3.12.7"
  }
 },
 "nbformat": 4,
 "nbformat_minor": 2
}
