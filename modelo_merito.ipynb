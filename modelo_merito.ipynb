{
 "cells": [
  {
   "cell_type": "markdown",
   "metadata": {},
   "source": [
    "## Definição Matemática"
   ]
  },
  {
   "cell_type": "markdown",
   "metadata": {},
   "source": [
    "## Definições de Conjuntos, Índices e Parâmetros\n",
    "\n",
    "- $ T $: Conjunto de todas as disciplinas.\n",
    "- $ D $: Conjunto de disciplinas ativas, $ D \\in T $.\n",
    "- $ I $: Conjunto de docentes.\n",
    "- $ H_j $: Conjunto de horários da disciplina $ j $.\n",
    "- $ P_j^i $: Prioridade atribuída pelo docente $ i $ à disciplina $ j $, sendo $ P_j^i \\geq 1 $ (quanto menor o valor, maior a prioridade).\n",
    "- $ \\text{MaiorPrioridade} $: Valor máximo de prioridade atribuído entre todas as disciplinas + 1.\n",
    "- $ d_j $: Dia da semana em que a disciplina $ j $ ocorre.\n",
    "- $ h_{j1}, h_{j2} $: Horários de início e término da disciplina $ j $.\n",
    "<!-- - $ \\text{Travas}(i, j) $: Função indicadora que vale 1 se o docente $ i $ está travado (não pode ser atribuído) à disciplina $ j $, e 0 caso contrário. -->"
   ]
  },
  {
   "cell_type": "markdown",
   "metadata": {},
   "source": [
    "## Variáveis de Decisão\n",
    "\n",
    "- $ x_{ij} $: Variável binária que vale 1 se o docente $ i $ for alocado à disciplina $ j $, e 0 caso contrário."
   ]
  },
  {
   "cell_type": "markdown",
   "metadata": {},
   "source": [
    "## Restrições\n",
    "\n",
    "\n",
    "### Restrição 1: Travas de Alocação\n",
    "\n",
    "$$\n",
    "x_{ij} \\leq 1 - \\text{Travas}(i, j) \\quad \\forall i \\in I, \\forall j \\in D\n",
    "$$\n",
    "\n",
    "_Um docente não pode ser atribuído a uma disciplina se houver uma trava para essa alocação._\n",
    "\n",
    "### Restrição 2: Sobreposição de Horários\n",
    "\n",
    "$$\n",
    " \\delta(d_j, d_k) = \n",
    "\\begin{cases} \n",
    "    1 & \\text{quando $j$  e  $k$  ocorrem no mesmo dia  e }\\\\\n",
    "    0 & \\text{caso contrário}\n",
    "\\end{cases}\n",
    "$$\n",
    "\n",
    "\n",
    "$$\n",
    "\\sum_{j \\in D} \\sum_{k \\in D, k \\neq j} \\sum_{h_j \\in H_j} \\sum_{h_k \\in H_k} \\left( \\delta(d_j, d_k) \\cdot \\left[ (h_{j1} < h_{k2} \\land h_{j2} > h_{k1}) \\lor (h_{j1} = h_{k2}) \\lor (h_{j2} = h_{k1}) \\right] \\cdot x_{ij} \\cdot x_{ik} \\right) = 0\n",
    "$$\n",
    "\n",
    "_Um docente não pode ser alocado a disciplinas cujos horários se sobreponham. Se dois horários se sobrepõem, a restrição é violada._"
   ]
  },
  {
   "cell_type": "markdown",
   "metadata": {},
   "source": [
    "## Mérito\n",
    "\n",
    "### 1. Penalidade para docentes sem prioridade:\n",
    "$$\n",
    "\\text{Penalidade}_{\\text{sem prioridade}} = \\sum_{j \\in D} \\sum_{i \\in I} \\text{maiorPrioridade} \\cdot x_{ij}; \\quad \\forall{i, j} \\notin P^i_j\n",
    "$$\n",
    "\n",
    "_Alocar um docente a uma disciplina para a qual ele não tenha apontado prioridade gerará uma penalização igual à maior prioridade do conjunto._\n",
    "\n",
    "### 2. Penalidade por disciplina sem docente:\n",
    "$$\n",
    "\\text{Penalidade}_{\\text{sem docente}} = \\sum_{j \\in D} \\left( 10 \\cdot (1 - \\sum_{i \\in I} x_{ij}) \\right)\n",
    "$$\n",
    "\n",
    "_Disciplinas sem docentes alocados receberão uma penalidade de 10 pontos._\n",
    "\n",
    "### 3. Penalidade por disciplina com mais de um docente:\n",
    "$$\n",
    "\\text{Penalidade}_{\\text{mais de um docente}} = \\sum_{j \\in D} \\left( 10 + 10 \\cdot \\sum_{i \\in I} x_{ij} \\right) \\quad \\text{se} \\quad \\sum_{i \\in I} x_{ij} > 1\n",
    "$$\n",
    "\n",
    "_Disciplinas com mais de um docente alocado receberão uma penalidade de 10 pontos, mais 10 pontos adicionais por cada docente alocado na mesma disciplina._\n",
    "\n",
    "### 4. \"Crédito\" para docentes alocados com prioridade:\n",
    "\n",
    "$$\n",
    "   \\text{Crédito} =  \\sum_{j \\in D} \\sum_{i \\in I} \\left( \\text{maiorPrioridade} - \\text{prioridade}_{ij} \\right) \\cdot x_{ij}; \\quad \\forall{i, j} \\in P^i_j\n",
    "$$\n",
    "<!-- $$\n",
    "   \\text{Crédito} =  \\sum_{j \\in D} \\sum_{i \\in P_j} \\left( \\text{maiorPrioridade} - \\text{prioridade}_{ij} \\right) \\cdot x_{ij}; \\quad \\forall{i, j} \\in P^i_j\n",
    "$$ -->\n",
    "\n",
    "_Alocar um docente a uma disciplina para a qual ele tenha apontado prioridade gerará uma adição de pontos na função mérito._"
   ]
  },
  {
   "cell_type": "markdown",
   "metadata": {},
   "source": [
    "<!-- ## Função Objetivo\n",
    "\n",
    "$$\n",
    "     \\max{\\sum_{j \\in D} \\sum_{i \\in I} (\\text{Crédito} - (\\text{Penalidade}_{\\text{sem prioridade}} + \\text{Penalidade}_{\\text{sem docente}} + \\text{Penalidade}_{\\text{mais de um docente}}))}\n",
    "$$\n",
    "\n",
    "_Maximizar a qualidade da alocação de docentes às disciplinas, considerando suas prioridades e penalizações por atribuições incorretas ou faltantes._ -->"
   ]
  },
  {
   "cell_type": "code",
   "execution_count": 1,
   "metadata": {},
   "outputs": [],
   "source": [
    "import json"
   ]
  },
  {
   "cell_type": "code",
   "execution_count": 3,
   "metadata": {},
   "outputs": [
    {
     "ename": "FileNotFoundError",
     "evalue": "[Errno 2] No such file or directory: 'dados.json'",
     "output_type": "error",
     "traceback": [
      "\u001b[1;31m---------------------------------------------------------------------------\u001b[0m",
      "\u001b[1;31mFileNotFoundError\u001b[0m                         Traceback (most recent call last)",
      "Cell \u001b[1;32mIn[3], line 5\u001b[0m\n\u001b[0;32m      2\u001b[0m caminho_arquivo \u001b[38;5;241m=\u001b[39m \u001b[38;5;124m'\u001b[39m\u001b[38;5;124mdados.json\u001b[39m\u001b[38;5;124m'\u001b[39m\n\u001b[0;32m      4\u001b[0m \u001b[38;5;66;03m# Abrir e ler o arquivo JSON\u001b[39;00m\n\u001b[1;32m----> 5\u001b[0m \u001b[38;5;28;01mwith\u001b[39;00m \u001b[38;5;28;43mopen\u001b[39;49m\u001b[43m(\u001b[49m\u001b[43mcaminho_arquivo\u001b[49m\u001b[43m,\u001b[49m\u001b[43m \u001b[49m\u001b[38;5;124;43m'\u001b[39;49m\u001b[38;5;124;43mr\u001b[39;49m\u001b[38;5;124;43m'\u001b[39;49m\u001b[43m,\u001b[49m\u001b[43m \u001b[49m\u001b[43mencoding\u001b[49m\u001b[38;5;241;43m=\u001b[39;49m\u001b[38;5;124;43m'\u001b[39;49m\u001b[38;5;124;43mutf-8\u001b[39;49m\u001b[38;5;124;43m'\u001b[39;49m\u001b[43m)\u001b[49m \u001b[38;5;28;01mas\u001b[39;00m arquivo:\n\u001b[0;32m      6\u001b[0m     dados \u001b[38;5;241m=\u001b[39m json\u001b[38;5;241m.\u001b[39mload(arquivo)  \u001b[38;5;66;03m# Carrega o conteúdo JSON para um dicionário Python\u001b[39;00m\n\u001b[0;32m      8\u001b[0m \u001b[38;5;66;03m# Acessando as \"atribuições\" e a \"avaliação\"\u001b[39;00m\n",
      "File \u001b[1;32mc:\\Users\\jo_bi\\AppData\\Local\\Programs\\Python\\Python39\\lib\\site-packages\\IPython\\core\\interactiveshell.py:310\u001b[0m, in \u001b[0;36m_modified_open\u001b[1;34m(file, *args, **kwargs)\u001b[0m\n\u001b[0;32m    303\u001b[0m \u001b[38;5;28;01mif\u001b[39;00m file \u001b[38;5;129;01min\u001b[39;00m {\u001b[38;5;241m0\u001b[39m, \u001b[38;5;241m1\u001b[39m, \u001b[38;5;241m2\u001b[39m}:\n\u001b[0;32m    304\u001b[0m     \u001b[38;5;28;01mraise\u001b[39;00m \u001b[38;5;167;01mValueError\u001b[39;00m(\n\u001b[0;32m    305\u001b[0m         \u001b[38;5;124mf\u001b[39m\u001b[38;5;124m\"\u001b[39m\u001b[38;5;124mIPython won\u001b[39m\u001b[38;5;124m'\u001b[39m\u001b[38;5;124mt let you open fd=\u001b[39m\u001b[38;5;132;01m{\u001b[39;00mfile\u001b[38;5;132;01m}\u001b[39;00m\u001b[38;5;124m by default \u001b[39m\u001b[38;5;124m\"\u001b[39m\n\u001b[0;32m    306\u001b[0m         \u001b[38;5;124m\"\u001b[39m\u001b[38;5;124mas it is likely to crash IPython. If you know what you are doing, \u001b[39m\u001b[38;5;124m\"\u001b[39m\n\u001b[0;32m    307\u001b[0m         \u001b[38;5;124m\"\u001b[39m\u001b[38;5;124myou can use builtins\u001b[39m\u001b[38;5;124m'\u001b[39m\u001b[38;5;124m open.\u001b[39m\u001b[38;5;124m\"\u001b[39m\n\u001b[0;32m    308\u001b[0m     )\n\u001b[1;32m--> 310\u001b[0m \u001b[38;5;28;01mreturn\u001b[39;00m io_open(file, \u001b[38;5;241m*\u001b[39margs, \u001b[38;5;241m*\u001b[39m\u001b[38;5;241m*\u001b[39mkwargs)\n",
      "\u001b[1;31mFileNotFoundError\u001b[0m: [Errno 2] No such file or directory: 'dados.json'"
     ]
    }
   ],
   "source": [
    "# Caminho do arquivo JSON\n",
    "caminho_arquivo = 'dados.json'\n",
    "\n",
    "# Abrir e ler o arquivo JSON\n",
    "with open(caminho_arquivo, 'r', encoding='utf-8') as arquivo:\n",
    "    dados = json.load(arquivo)  # Carrega o conteúdo JSON para um dicionário Python\n",
    "\n",
    "# Acessando as \"atribuições\" e a \"avaliação\"\n",
    "atribuicoes = dados['atribuicoes']\n",
    "avaliacao = dados['avaliacao']\n",
    "\n",
    "# Exibindo o conteúdo lido\n",
    "print(f\"Atribuições: {atribuicoes}\")\n",
    "print(f\"Avaliação: {avaliacao}\")\n",
    "\n",
    "# Exemplo de como acessar os detalhes das atribuições\n",
    "for atribuicao in atribuicoes:\n",
    "    print(f\"Disciplina: {atribuicao['id_disciplina']}\")\n",
    "    print(f\"Docentes: {', '.join(atribuicao['docentes'])}\")\n"
   ]
  },
  {
   "cell_type": "code",
   "execution_count": 4,
   "metadata": {},
   "outputs": [],
   "source": [
    "def read_json(filePath):\n",
    "    # Abrir e ler o arquivo JSON\n",
    "    with open(filePath, 'r', encoding='utf-8') as arquivo:\n",
    "        dados = json.load(arquivo)  # Carrega o conteúdo JSON para um dicionário Python\n",
    "    return dados"
   ]
  },
  {
   "cell_type": "code",
   "execution_count": 4,
   "metadata": {},
   "outputs": [],
   "source": [
    "arquivo_1 = read_json(r'./Arquivos/dados_1.json')\n",
    "arquivo_2 = read_json(r'./Arquivos/dados_2.json')\n",
    "arquivo_3 = read_json(r'./Arquivos/dados_3.json')\n",
    "arquivo_4 = read_json(r'./Arquivos/dados_4.json')"
   ]
  },
  {
   "cell_type": "code",
   "execution_count": 15,
   "metadata": {},
   "outputs": [
    {
     "data": {
      "text/plain": [
       "True"
      ]
     },
     "execution_count": 15,
     "metadata": {},
     "output_type": "execute_result"
    }
   ],
   "source": [
    "arquivo_1[0]['docentes'] == arquivo_2[0]['id_disciplina']"
   ]
  },
  {
   "cell_type": "code",
   "execution_count": 5,
   "metadata": {},
   "outputs": [],
   "source": [
    "def comparar_arquivos(arquivo1, arquivo2):\n",
    "    diferencas = 0\n",
    "    diff = []\n",
    "    for index in range(0, len(arquivo2)):\n",
    "        atribuicao1 = arquivo1[index]\n",
    "        atribuicao2 = arquivo2[index]\n",
    "\n",
    "        if(atribuicao1['id_disciplina'] != atribuicao2['id_disciplina']):\n",
    "            print('A ordem das disciplinas está errada')\n",
    "        else:\n",
    "            if(atribuicao1['docentes'] != atribuicao2['docentes']):\n",
    "                diferencas += 1\n",
    "                diff.append({'id_disciplina': atribuicao1['id_disciplina'], 'docentes_origem': atribuicao1['docentes'], 'docentes_destino': atribuicao2['docentes'] })\n",
    "\n",
    "    return diferencas, diff"
   ]
  },
  {
   "cell_type": "code",
   "execution_count": 25,
   "metadata": {},
   "outputs": [
    {
     "name": "stdout",
     "output_type": "stream",
     "text": [
      "Qtd: 1\n",
      "[{'id_disciplina': 'PRG0027,1', 'docentes_origem': ['Miguel Vinicius Santini Frasson'], 'docentes_destino': ['Tiago Pereira da Silva']}]\n"
     ]
    }
   ],
   "source": [
    "qtd_1_2, diff_1_2 = comparar_arquivos(arquivo_1, arquivo_2)\n",
    "print(f'Qtd: {qtd_1_2}')\n",
    "print(diff_1_2)"
   ]
  },
  {
   "cell_type": "code",
   "execution_count": 26,
   "metadata": {},
   "outputs": [
    {
     "name": "stdout",
     "output_type": "stream",
     "text": [
      "Qtd: 1\n",
      "[{'id_disciplina': 'PRG0027,1', 'docentes_origem': ['Tiago Pereira da Silva'], 'docentes_destino': []}]\n"
     ]
    }
   ],
   "source": [
    "qtd_2_3, diff_2_3 = comparar_arquivos(arquivo_2, arquivo_3)\n",
    "print(f'Qtd: {qtd_2_3}')\n",
    "print(diff_2_3)"
   ]
  },
  {
   "cell_type": "code",
   "execution_count": 27,
   "metadata": {},
   "outputs": [
    {
     "name": "stdout",
     "output_type": "stream",
     "text": [
      "Qtd: 1\n",
      "[{'id_disciplina': 'PRG0027,1', 'docentes_origem': [], 'docentes_destino': ['Tiago Pereira da Silva']}]\n"
     ]
    }
   ],
   "source": [
    "qtd_3_4, diff_3_4 = comparar_arquivos(arquivo_3, arquivo_4)\n",
    "print(f'Qtd: {qtd_3_4}')\n",
    "print(diff_3_4)"
   ]
  },
  {
   "cell_type": "code",
   "execution_count": 11,
   "metadata": {},
   "outputs": [],
   "source": [
    "meu = read_json(r'./Arquivos/arquivo_grande.json')['atribuicoes']\n",
    "elias = read_json(r'./Arquivos/arquivo_elias (1).json')"
   ]
  },
  {
   "cell_type": "code",
   "execution_count": 14,
   "metadata": {},
   "outputs": [
    {
     "name": "stdout",
     "output_type": "stream",
     "text": [
      "Qtd: 30\n",
      "{'id_disciplina': 'SME0123,2', 'docentes_origem': ['Cibele Maria Russo Noveli'], 'docentes_destino': [\"Thomas Kauê Dal'Maso Peron\"]}\n",
      "{'id_disciplina': 'SME0206,1', 'docentes_origem': ['Maria Luisa Bambozzi de Oliveira'], 'docentes_destino': ['Antonio Castelo Filho']}\n",
      "{'id_disciplina': 'SME0220,1', 'docentes_origem': ['Vicente Garibay Cancho'], 'docentes_destino': ['Mário de Castro Andrade Filho']}\n",
      "{'id_disciplina': 'SME0240,1', 'docentes_origem': ['Paulo Afonso Faria da Veiga'], 'docentes_destino': ['Marina Lima Morais']}\n",
      "{'id_disciplina': 'SME0245,1', 'docentes_origem': ['Tiago Pereira da Silva'], 'docentes_destino': ['Everaldo de Mello Bonotto']}\n",
      "{'id_disciplina': 'SME0254,1', 'docentes_origem': ['Gustavo Carlos Buscaglia', 'Roberto Federico Ausas'], 'docentes_destino': ['Gustavo Carlos Buscaglia']}\n",
      "{'id_disciplina': 'SME0274,1', 'docentes_origem': ['Marina Lima Morais'], 'docentes_destino': ['Fabrício Simeoni de Sousa']}\n",
      "{'id_disciplina': 'SME0285,1', 'docentes_origem': ['José Alberto Cuminato'], 'docentes_destino': ['Elias Salomão Helou Neto']}\n",
      "{'id_disciplina': 'SME0300,1', 'docentes_origem': ['Livia Souza Freire Grion'], 'docentes_destino': ['José Alberto Cuminato']}\n",
      "{'id_disciplina': 'SME0300,2', 'docentes_origem': ['Eduardo Fontoura Costa'], 'docentes_destino': ['Maria Luisa Bambozzi de Oliveira']}\n",
      "{'id_disciplina': 'SME0306,2', 'docentes_origem': ['Gustavo Carlos Buscaglia'], 'docentes_destino': ['Cynthia de Oliveira Lage Ferreira']}\n",
      "{'id_disciplina': 'SME0306,3', 'docentes_origem': ['Leandro Franco de Souza'], 'docentes_destino': ['Gustavo Carlos Buscaglia']}\n",
      "{'id_disciplina': 'SME0320,1', 'docentes_origem': [\"Thomas Kauê Dal'Maso Peron\"], 'docentes_destino': ['Reiko Aoki']}\n",
      "{'id_disciplina': 'SME0320,2', 'docentes_origem': [\"Thomas Kauê Dal'Maso Peron\"], 'docentes_destino': ['Adriano Kamimura Suzuki']}\n",
      "{'id_disciplina': 'SME0320,3', 'docentes_origem': ['Ricardo Sandes Ehlers'], 'docentes_destino': ['Jorge Luis Bazan Guzman']}\n",
      "{'id_disciplina': 'SME0332,1', 'docentes_origem': ['Roberto Federico Ausas'], 'docentes_destino': ['Francisco Aparecido Rodrigues']}\n",
      "{'id_disciplina': 'SME0332,2', 'docentes_origem': ['Roberto Federico Ausas'], 'docentes_destino': ['Marina Andretta']}\n",
      "{'id_disciplina': 'SME0341,1', 'docentes_origem': ['Marina Lima Morais'], 'docentes_destino': ['Maria Luisa Bambozzi de Oliveira']}\n",
      "{'id_disciplina': 'SME0341,2', 'docentes_origem': ['Paulo Afonso Faria da Veiga'], 'docentes_destino': ['Luis Gustavo Nonato']}\n",
      "{'id_disciplina': 'SME0510,1', 'docentes_origem': ['Elias Salomão Helou Neto'], 'docentes_destino': ['Maristela Oliveira dos Santos']}\n",
      "{'id_disciplina': 'SME0800,1', 'docentes_origem': ['Mário de Castro Andrade Filho'], 'docentes_destino': ['Vicente Garibay Cancho']}\n",
      "{'id_disciplina': 'SME0805,1', 'docentes_origem': ['Oilson Alberto Gonzatto Junior'], 'docentes_destino': ['Francisco Aparecido Rodrigues']}\n",
      "{'id_disciplina': 'SME0809,1', 'docentes_origem': ['Adriano Kamimura Suzuki'], 'docentes_destino': ['Marinho Gomes de Andrade Filho']}\n",
      "{'id_disciplina': 'SME0815,1', 'docentes_origem': ['Mariana Cúri'], 'docentes_destino': ['Francisco Louzada Neto']}\n",
      "{'id_disciplina': 'SME0822,1', 'docentes_origem': ['Vicente Garibay Cancho'], 'docentes_destino': ['Cibele Maria Russo Noveli']}\n",
      "{'id_disciplina': 'SME0880,1', 'docentes_origem': ['Mariana Cúri'], 'docentes_destino': ['Katiane Silva Conceição']}\n",
      "{'id_disciplina': 'SME0881,1', 'docentes_origem': ['Mariana Cúri'], 'docentes_destino': []}\n",
      "{'id_disciplina': 'EST5525,1', 'docentes_origem': ['Marinho Gomes de Andrade Filho'], 'docentes_destino': []}\n",
      "{'id_disciplina': 'SME5785,1', 'docentes_origem': ['Gustavo Carlos Buscaglia', 'Roberto Federico Ausas'], 'docentes_destino': ['Roberto Federico Ausas']}\n",
      "{'id_disciplina': 'SME5965,1', 'docentes_origem': ['André Carlos Ponce de Leon Ferreira de Carvalho'], 'docentes_destino': ['Francisco Louzada Neto']}\n"
     ]
    }
   ],
   "source": [
    "qtd, diff = comparar_arquivos(elias, meu)\n",
    "print(f'Qtd: {qtd}')\n",
    "for d in diff:\n",
    "    print(d)"
   ]
  },
  {
   "cell_type": "code",
   "execution_count": 7,
   "metadata": {},
   "outputs": [],
   "source": [
    "interface A {\n",
    "    nome: string;\n",
    "    numero: number;\n",
    "}\n",
    "\n",
    "interface Teste {\n",
    "    id: number;\n",
    "    lista: Map<string, A>;\n",
    "}\n",
    "\n",
    "let a:Teste[] = [];"
   ]
  },
  {
   "cell_type": "code",
   "execution_count": 9,
   "metadata": {},
   "outputs": [
    {
     "name": "stdout",
     "output_type": "stream",
     "text": [
      "[\n",
      "  { id: 1, lista: Map(1) { \"jose\" => { nome: \"lele\", numero: 20 } } }\n",
      "]\n"
     ]
    }
   ],
   "source": [
    "console.log(a)"
   ]
  },
  {
   "cell_type": "code",
   "execution_count": 8,
   "metadata": {},
   "outputs": [
    {
     "data": {
      "text/plain": [
       "\u001b[33m1\u001b[39m"
      ]
     },
     "execution_count": 8,
     "metadata": {},
     "output_type": "execute_result"
    }
   ],
   "source": [
    "a.push({id: 1, lista: new Map().set('jose', {nome: 'lele', numero: 20})})\n",
    "// a.push({id: 2, lista: new Map().set('caique', 28)})"
   ]
  },
  {
   "cell_type": "code",
   "execution_count": 11,
   "metadata": {},
   "outputs": [
    {
     "data": {
      "text/plain": [
       "Object [Iterator Helper] {}"
      ]
     },
     "execution_count": 11,
     "metadata": {},
     "output_type": "execute_result"
    }
   ],
   "source": []
  },
  {
   "cell_type": "code",
   "execution_count": 14,
   "metadata": {},
   "outputs": [
    {
     "data": {
      "text/plain": [
       "Map(2) { \u001b[32m\"caique\"\u001b[39m => \u001b[33m28\u001b[39m, \u001b[32m\"lele\"\u001b[39m => \u001b[33m4\u001b[39m }"
      ]
     },
     "execution_count": 14,
     "metadata": {},
     "output_type": "execute_result"
    }
   ],
   "source": [
    "for(const b of a){\n",
    "    b.lista.set('lele', 4)\n",
    "}"
   ]
  },
  {
   "cell_type": "code",
   "execution_count": 22,
   "metadata": {},
   "outputs": [
    {
     "data": {
      "text/plain": [
       "\u001b[33m2\u001b[39m"
      ]
     },
     "execution_count": 22,
     "metadata": {},
     "output_type": "execute_result"
    }
   ],
   "source": [
    "const teste = a[0].lista\n",
    "\n",
    "teste.size"
   ]
  },
  {
   "cell_type": "code",
   "execution_count": 23,
   "metadata": {},
   "outputs": [],
   "source": [
    "const s = new Set().add('jose').add('caique')"
   ]
  },
  {
   "cell_type": "code",
   "execution_count": 25,
   "metadata": {},
   "outputs": [
    {
     "data": {
      "text/plain": [
       "[Set Iterator] { \u001b[32m\"jose\"\u001b[39m, \u001b[32m\"caique\"\u001b[39m }"
      ]
     },
     "execution_count": 25,
     "metadata": {},
     "output_type": "execute_result"
    }
   ],
   "source": [
    "s.keys()"
   ]
  },
  {
   "cell_type": "code",
   "execution_count": 26,
   "metadata": {},
   "outputs": [],
   "source": [
    "teste.get('ana')"
   ]
  },
  {
   "cell_type": "code",
   "execution_count": 3,
   "metadata": {},
   "outputs": [
    {
     "name": "stdout",
     "output_type": "stream",
     "text": [
      "[\n",
      "  { id: 1, lista: Map(1) { \"jose\" => 13 } },\n",
      "  { id: 2, lista: Map(1) { \"caique\" => 28 } }\n",
      "]\n"
     ]
    }
   ],
   "source": [
    "console.log(a)"
   ]
  },
  {
   "cell_type": "code",
   "execution_count": 6,
   "metadata": {},
   "outputs": [
    {
     "name": "stdout",
     "output_type": "stream",
     "text": [
      "{ id: 2, lista: Map(2) { \"caique\" => 28, \"jose\" => 13 } }\n"
     ]
    }
   ],
   "source": [
    "const b = a[1]\n",
    "b.lista.set('jose', 13)\n",
    "console.log(b)"
   ]
  },
  {
   "cell_type": "code",
   "execution_count": 10,
   "metadata": {},
   "outputs": [
    {
     "name": "stdout",
     "output_type": "stream",
     "text": [
      "28\n",
      "13\n"
     ]
    }
   ],
   "source": [
    "for(const x of b.lista.entries()) {\n",
    "    console.log(x)\n",
    "}"
   ]
  },
  {
   "cell_type": "code",
   "execution_count": null,
   "metadata": {},
   "outputs": [],
   "source": []
  }
 ],
 "metadata": {
  "kernelspec": {
   "display_name": "Deno",
   "language": "typescript",
   "name": "deno"
  },
  "language_info": {
   "codemirror_mode": "typescript",
   "file_extension": ".ts",
   "mimetype": "text/x.typescript",
   "name": "typescript",
   "nbconvert_exporter": "script",
   "pygments_lexer": "typescript",
   "version": "5.5.2"
  }
 },
 "nbformat": 4,
 "nbformat_minor": 2
}
